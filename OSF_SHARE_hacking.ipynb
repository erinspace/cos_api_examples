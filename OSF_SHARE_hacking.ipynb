{
 "cells": [
  {
   "cell_type": "markdown",
   "metadata": {},
   "source": [
    "# Using the OSF API\n",
    "\n",
    "For more information, visit the full [OSF API docs](http://developer.osf.io)!\n",
    "\n",
    "We'll be using the staging version of the OSF and API for this tutorial. Because staging is always in active development, if the endpoints fail to work at any point, feel free to switch to production OSF! Just note that you'll have to create a new token, and that any test work you make public will be available to anyone! Simply remove \"staging\" from the base STAGING_OSF_API url listed below for production OSF endpoints.\n",
    "\n",
    "Before starting this tutorial, make sure to [create an account on the staging version of the osf](https://staging.osf.io), login to that account, and create an API token by [visitng your settings page](https://staging.osf.io/settings/tokens/).\n",
    "\n",
    "Save your token as an enviornment variable, or replace the enviornment variable below with the text version of your token for local testing."
   ]
  },
  {
   "cell_type": "markdown",
   "metadata": {},
   "source": [
    "## Create a Project, Upload a File\n",
    "\n",
    "Here's an example of how to create a project (called a node) on the OSF, and then follow the API relationships to upload a file.\n",
    "\n",
    "This is a python implementation of a guide found on the OSF [detailing a typical OSF Workflow](https://osf.io/y9jdt/wiki/Typical%20Workflow/)"
   ]
  },
  {
   "cell_type": "code",
   "execution_count": null,
   "metadata": {
    "collapsed": false
   },
   "outputs": [],
   "source": [
    "import os\n",
    "import json\n",
    "import requests\n",
    "\n",
    "STAGING_OSF_TOKEN = os.environ['STAGING_OSF_TOKEN']  # replace this line with your token instead if you like\n",
    "STAGING_OSF_API = 'https://staging-api.osf.io/v2/'"
   ]
  },
  {
   "cell_type": "code",
   "execution_count": null,
   "metadata": {
    "collapsed": true
   },
   "outputs": [],
   "source": [
    "# Let's defne a few helper functions to make sending credentials easier\n",
    "def post_request(url, data, auth):\n",
    "    headers = {'Content-Type': 'application/vnd.api+json'}\n",
    "    if auth:\n",
    "        headers['Authorization'] = 'Bearer {}'.format(auth)\n",
    "    data = json.dumps(data)\n",
    "    return requests.post(url, headers=headers, data=data)"
   ]
  },
  {
   "cell_type": "code",
   "execution_count": null,
   "metadata": {
    "collapsed": true
   },
   "outputs": [],
   "source": [
    "def get_request(url, auth=None):\n",
    "    headers = {'Authorization': 'Bearer {}'.format(auth)}\n",
    "    return requests.get(url, headers=headers)"
   ]
  },
  {
   "cell_type": "code",
   "execution_count": null,
   "metadata": {
    "collapsed": true
   },
   "outputs": [],
   "source": [
    "def put_request(url, data, auth):\n",
    "    headers = {\n",
    "        'Content-Type': 'application/vnd.api+json',\n",
    "        'Authorization': 'Bearer {}'.format(auth)\n",
    "    }\n",
    "    data = json.dumps(data)\n",
    "    return requests.put(url, headers=headers, data=data)"
   ]
  },
  {
   "cell_type": "code",
   "execution_count": null,
   "metadata": {
    "collapsed": false
   },
   "outputs": [],
   "source": [
    "# Define the data for the node we'd like to create\n",
    "node_data = {\n",
    "    \"data\": {\n",
    "        \"type\":\"nodes\",\n",
    "        \"attributes\": {\n",
    "            \"title\":\"Testing Example\",\n",
    "            \"description\": \"This is a node created as an example of how to create a node!\",\n",
    "            \"public\": False,\n",
    "            \"category\":\"project\"\n",
    "        }\n",
    "    }\n",
    "}"
   ]
  },
  {
   "cell_type": "code",
   "execution_count": null,
   "metadata": {
    "collapsed": false
   },
   "outputs": [],
   "source": [
    "# Post the data, get a response back with details about our node\n",
    "node_response = post_request(STAGING_OSF_API + 'nodes/', node_data, STAGING_OSF_TOKEN)\n",
    "print(json.dumps(node_response.json(), indent=4))"
   ]
  },
  {
   "cell_type": "code",
   "execution_count": null,
   "metadata": {
    "collapsed": false
   },
   "outputs": [],
   "source": [
    "# Find the files relationship, follow the related -> href link\n",
    "files_link = node_response.json()['data']['relationships']['files']['links']['related']['href']\n",
    "files_response = get_request(files_link, STAGING_OSF_TOKEN).json()\n",
    "print(json.dumps(files_response, indent=4))"
   ]
  },
  {
   "cell_type": "code",
   "execution_count": null,
   "metadata": {
    "collapsed": false
   },
   "outputs": [],
   "source": [
    "# Find the upload link for OSF Storage in that list - should be the first element in the list for new nodes\n",
    "# A node can have several external storage providers configured\n",
    "upload_link = files_response['data'][0]['links']['upload']\n",
    "upload_link"
   ]
  },
  {
   "cell_type": "code",
   "execution_count": null,
   "metadata": {
    "collapsed": false
   },
   "outputs": [],
   "source": [
    "# Upload the file along with the kind and file name\n",
    "\n",
    "upload_link_with_filename = upload_link + '?kind=file&name=newest_file.txt'\n",
    "file_data = 'This is the entirety of the contents of the file I am uploading. It could have been more, but for an example, a small file seems like a better idea.'\n",
    "\n",
    "put_response = put_request(upload_link_with_filename, file_data, STAGING_OSF_TOKEN)\n",
    "print(json.dumps(put_response.json(), indent=4))"
   ]
  },
  {
   "cell_type": "markdown",
   "metadata": {},
   "source": [
    "## You did it!\n",
    "Visit your project on the OSF and see your newly updated file!"
   ]
  },
  {
   "cell_type": "code",
   "execution_count": null,
   "metadata": {
    "collapsed": false
   },
   "outputs": [],
   "source": [
    "# Check our your project on the OSF by visiting the project's link\n",
    "node_response.json()['data']['links']['html']"
   ]
  },
  {
   "cell_type": "markdown",
   "metadata": {},
   "source": [
    "# Querying the SHARE API"
   ]
  },
  {
   "cell_type": "code",
   "execution_count": null,
   "metadata": {
    "collapsed": true
   },
   "outputs": [],
   "source": [
    "SHARE_API_BASE = 'https://share.osf.io/api/v2/'"
   ]
  },
  {
   "cell_type": "code",
   "execution_count": null,
   "metadata": {
    "collapsed": false
   },
   "outputs": [],
   "source": [
    "# Get the total number of SHARE sources\n",
    "sources_query = requests.get(SHARE_API_BASE + 'sources').json()\n",
    "count = sources_query['meta']['pagination']['count']\n",
    "print('There are {} sources in SHARE'.format(count))"
   ]
  },
  {
   "cell_type": "code",
   "execution_count": null,
   "metadata": {
    "collapsed": false
   },
   "outputs": [],
   "source": [
    "# Get the total number of creativeworks in SHARE\n",
    "creativeworks_search = 'search/creativeworks/_search'\n",
    "base_search = requests.get(SHARE_API_BASE + creativeworks_search).json()\n",
    "total_creativeworks = base_search['hits']['total']\n",
    "print('There are {} works in SHARE'.format(total_creativeworks))"
   ]
  },
  {
   "cell_type": "code",
   "execution_count": null,
   "metadata": {
    "collapsed": false
   },
   "outputs": [],
   "source": [
    "# Print out the first 10 titles\n",
    "results = base_search['hits']['hits']\n",
    "\n",
    "for result in results:\n",
    "    print(result['_source']['title'])"
   ]
  },
  {
   "cell_type": "code",
   "execution_count": null,
   "metadata": {
    "collapsed": true
   },
   "outputs": [],
   "source": [
    "def post_query(url, query):\n",
    "    headers = {'Content-Type': 'application/json'}\n",
    "    data = json.dumps(query)\n",
    "    return requests.post(url, headers=headers, data=data)"
   ]
  },
  {
   "cell_type": "code",
   "execution_count": null,
   "metadata": {
    "collapsed": true
   },
   "outputs": [],
   "source": [
    "# Get query forming hints by searching https://share.osf.io/discover\n",
    "search_query = {\n",
    "    \"query\": {\n",
    "        \"bool\": {\n",
    "            \"must\": {\n",
    "                \"query_string\": {\n",
    "                    \"query\": \"climate change\"\n",
    "                }\n",
    "            },\n",
    "            \"filter\": [\n",
    "                {\n",
    "                    \"term\": {\n",
    "                        \"types\": \"software\"\n",
    "                    }\n",
    "                }\n",
    "            ]\n",
    "        }\n",
    "    }\n",
    "}"
   ]
  },
  {
   "cell_type": "code",
   "execution_count": null,
   "metadata": {
    "collapsed": false
   },
   "outputs": [],
   "source": [
    "software_results = post_query(SHARE_API_BASE + creativeworks_search, search_query).json()\n",
    "\n",
    "# Let's check out the details of the first result\n",
    "print(json.dumps(software_results['hits']['hits'][0]['_source'], indent=4))"
   ]
  },
  {
   "cell_type": "code",
   "execution_count": null,
   "metadata": {
    "collapsed": false
   },
   "outputs": [],
   "source": [
    "# Iterate through the first page of results, print each title\n",
    "for result in software_results['hits']['hits']:\n",
    "    print(result['_source']['title'])"
   ]
  },
  {
   "cell_type": "code",
   "execution_count": null,
   "metadata": {
    "collapsed": true
   },
   "outputs": [],
   "source": []
  }
 ],
 "metadata": {
  "kernelspec": {
   "display_name": "Python 2",
   "language": "python",
   "name": "python2"
  },
  "language_info": {
   "codemirror_mode": {
    "name": "ipython",
    "version": 2
   },
   "file_extension": ".py",
   "mimetype": "text/x-python",
   "name": "python",
   "nbconvert_exporter": "python",
   "pygments_lexer": "ipython2",
   "version": "2.7.11"
  }
 },
 "nbformat": 4,
 "nbformat_minor": 0
}
