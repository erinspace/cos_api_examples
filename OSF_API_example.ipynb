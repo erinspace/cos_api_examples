{
 "cells": [
  {
   "cell_type": "markdown",
   "metadata": {},
   "source": [
    "# Using the OSF API\n",
    "\n",
    "For more information, visit the full [OSF API docs](http://developer.osf.io)!\n",
    "\n",
    "\n",
    "This tutorial will start with some basic API queries to get publicly available information about the content on the OSF, and then move on to creating a project and adding a file via API.\n",
    "\n",
    "Results from the OSF API mostly follows the [JSON API Specification](http://jsonapi.org/)."
   ]
  },
  {
   "cell_type": "markdown",
   "metadata": {},
   "source": [
    "## Basic API Actions: Get Some Information\n",
    "\n",
    "First, let's practice querying the OSF API for some public projects.\n",
    "\n",
    "Since querying for public projects does not require us to provide authentication credentials, we can get right to the data without a lot of overhead.\n",
    "\n",
    "First, some setup."
   ]
  },
  {
   "cell_type": "code",
   "execution_count": 1,
   "metadata": {
    "collapsed": false
   },
   "outputs": [],
   "source": [
    "import json\n",
    "\n",
    "import requests\n",
    "\n",
    "\n",
    "OSF_API_URL = 'https://api.osf.io/v2/'\n",
    "\n",
    "\n",
    "# A helper function to print out our API responses\n",
    "def pretty_print(json_data):\n",
    "    print(json.dumps(json_data, indent=4))"
   ]
  },
  {
   "cell_type": "markdown",
   "metadata": {},
   "source": [
    "### Accessing the Public Nodes List\n",
    "\n",
    "The following code will request the API endpoint for a list of nodes, a term we use for the overarching project. "
   ]
  },
  {
   "cell_type": "code",
   "execution_count": 2,
   "metadata": {
    "collapsed": false
   },
   "outputs": [
    {
     "name": "stdout",
     "output_type": "stream",
     "text": [
      "{\n",
      "    \"relationships\": {\n",
      "        \"files\": {\n",
      "            \"links\": {\n",
      "                \"related\": {\n",
      "                    \"href\": \"https://api.osf.io/v2/nodes/qtmwn/files/\", \n",
      "                    \"meta\": {}\n",
      "                }\n",
      "            }\n",
      "        }, \n",
      "        \"view_only_links\": {\n",
      "            \"links\": {\n",
      "                \"related\": {\n",
      "                    \"href\": \"https://api.osf.io/v2/nodes/qtmwn/view_only_links/\", \n",
      "                    \"meta\": {}\n",
      "                }\n",
      "            }\n",
      "        }, \n",
      "        \"identifiers\": {\n",
      "            \"links\": {\n",
      "                \"related\": {\n",
      "                    \"href\": \"https://api.osf.io/v2/nodes/qtmwn/identifiers/\", \n",
      "                    \"meta\": {}\n",
      "                }\n",
      "            }\n",
      "        }, \n",
      "        \"draft_registrations\": {\n",
      "            \"links\": {\n",
      "                \"related\": {\n",
      "                    \"href\": \"https://api.osf.io/v2/nodes/qtmwn/draft_registrations/\", \n",
      "                    \"meta\": {}\n",
      "                }\n",
      "            }\n",
      "        }, \n",
      "        \"contributors\": {\n",
      "            \"links\": {\n",
      "                \"related\": {\n",
      "                    \"href\": \"https://api.osf.io/v2/nodes/qtmwn/contributors/\", \n",
      "                    \"meta\": {}\n",
      "                }\n",
      "            }\n",
      "        }, \n",
      "        \"affiliated_institutions\": {\n",
      "            \"links\": {\n",
      "                \"self\": {\n",
      "                    \"href\": \"https://api.osf.io/v2/nodes/qtmwn/relationships/institutions/\", \n",
      "                    \"meta\": {}\n",
      "                }, \n",
      "                \"related\": {\n",
      "                    \"href\": \"https://api.osf.io/v2/nodes/qtmwn/institutions/\", \n",
      "                    \"meta\": {}\n",
      "                }\n",
      "            }\n",
      "        }, \n",
      "        \"citation\": {\n",
      "            \"links\": {\n",
      "                \"related\": {\n",
      "                    \"href\": \"https://api.osf.io/v2/nodes/qtmwn/citation/\", \n",
      "                    \"meta\": {}\n",
      "                }\n",
      "            }\n",
      "        }, \n",
      "        \"children\": {\n",
      "            \"links\": {\n",
      "                \"related\": {\n",
      "                    \"href\": \"https://api.osf.io/v2/nodes/qtmwn/children/\", \n",
      "                    \"meta\": {}\n",
      "                }\n",
      "            }\n",
      "        }, \n",
      "        \"comments\": {\n",
      "            \"links\": {\n",
      "                \"related\": {\n",
      "                    \"href\": \"https://api.osf.io/v2/nodes/qtmwn/comments/?filter%5Btarget%5D=qtmwn\", \n",
      "                    \"meta\": {}\n",
      "                }\n",
      "            }\n",
      "        }, \n",
      "        \"registrations\": {\n",
      "            \"links\": {\n",
      "                \"related\": {\n",
      "                    \"href\": \"https://api.osf.io/v2/nodes/qtmwn/registrations/\", \n",
      "                    \"meta\": {}\n",
      "                }\n",
      "            }\n",
      "        }, \n",
      "        \"linked_registrations\": {\n",
      "            \"links\": {\n",
      "                \"self\": {\n",
      "                    \"href\": \"https://api.osf.io/v2/nodes/qtmwn/relationships/linked_registrations/\", \n",
      "                    \"meta\": {}\n",
      "                }, \n",
      "                \"related\": {\n",
      "                    \"href\": \"https://api.osf.io/v2/nodes/qtmwn/linked_registrations/\", \n",
      "                    \"meta\": {}\n",
      "                }\n",
      "            }\n",
      "        }, \n",
      "        \"linked_nodes\": {\n",
      "            \"links\": {\n",
      "                \"self\": {\n",
      "                    \"href\": \"https://api.osf.io/v2/nodes/qtmwn/relationships/linked_nodes/\", \n",
      "                    \"meta\": {}\n",
      "                }, \n",
      "                \"related\": {\n",
      "                    \"href\": \"https://api.osf.io/v2/nodes/qtmwn/linked_nodes/\", \n",
      "                    \"meta\": {}\n",
      "                }\n",
      "            }\n",
      "        }, \n",
      "        \"node_links\": {\n",
      "            \"links\": {\n",
      "                \"related\": {\n",
      "                    \"href\": \"https://api.osf.io/v2/nodes/qtmwn/node_links/\", \n",
      "                    \"meta\": {}\n",
      "                }\n",
      "            }\n",
      "        }, \n",
      "        \"forks\": {\n",
      "            \"links\": {\n",
      "                \"related\": {\n",
      "                    \"href\": \"https://api.osf.io/v2/nodes/qtmwn/forks/\", \n",
      "                    \"meta\": {}\n",
      "                }\n",
      "            }\n",
      "        }, \n",
      "        \"root\": {\n",
      "            \"links\": {\n",
      "                \"related\": {\n",
      "                    \"href\": \"https://api.osf.io/v2/nodes/qtmwn/\", \n",
      "                    \"meta\": {}\n",
      "                }\n",
      "            }\n",
      "        }, \n",
      "        \"wikis\": {\n",
      "            \"links\": {\n",
      "                \"related\": {\n",
      "                    \"href\": \"https://api.osf.io/v2/nodes/qtmwn/wikis/\", \n",
      "                    \"meta\": {}\n",
      "                }\n",
      "            }\n",
      "        }, \n",
      "        \"preprints\": {\n",
      "            \"links\": {\n",
      "                \"related\": {\n",
      "                    \"href\": \"https://api.osf.io/v2/nodes/qtmwn/preprints/\", \n",
      "                    \"meta\": {}\n",
      "                }\n",
      "            }\n",
      "        }, \n",
      "        \"logs\": {\n",
      "            \"links\": {\n",
      "                \"related\": {\n",
      "                    \"href\": \"https://api.osf.io/v2/nodes/qtmwn/logs/\", \n",
      "                    \"meta\": {}\n",
      "                }\n",
      "            }\n",
      "        }\n",
      "    }, \n",
      "    \"attributes\": {\n",
      "        \"category\": \"project\", \n",
      "        \"fork\": false, \n",
      "        \"preprint\": false, \n",
      "        \"description\": \"\", \n",
      "        \"current_user_permissions\": [\n",
      "            \"read\"\n",
      "        ], \n",
      "        \"date_modified\": \"2017-10-10T12:57:50.644931\", \n",
      "        \"title\": \"Fighting Game Study\", \n",
      "        \"collection\": false, \n",
      "        \"registration\": false, \n",
      "        \"date_created\": \"2017-05-21T15:57:05.587674\", \n",
      "        \"current_user_can_comment\": false, \n",
      "        \"node_license\": null, \n",
      "        \"public\": true, \n",
      "        \"tags\": [\n",
      "            \"community psychology\", \n",
      "            \"FGC\", \n",
      "            \"fighting game community\", \n",
      "            \"video games\"\n",
      "        ]\n",
      "    }, \n",
      "    \"type\": \"nodes\", \n",
      "    \"id\": \"qtmwn\", \n",
      "    \"links\": {\n",
      "        \"self\": \"https://api.osf.io/v2/nodes/qtmwn/\", \n",
      "        \"html\": \"https://osf.io/qtmwn/\"\n",
      "    }\n",
      "}\n"
     ]
    }
   ],
   "source": [
    "# Get a list of the first 10 public projects (called nodes)\n",
    "results = requests.get(OSF_API_URL + 'nodes/').json()['data']\n",
    "\n",
    "# Print out the data from the first of those 10 projects\n",
    "pretty_print(results[0])"
   ]
  },
  {
   "cell_type": "code",
   "execution_count": 3,
   "metadata": {
    "collapsed": false
   },
   "outputs": [
    {
     "name": "stdout",
     "output_type": "stream",
     "text": [
      "[\n",
      "    \"relationships\", \n",
      "    \"attributes\", \n",
      "    \"type\", \n",
      "    \"id\", \n",
      "    \"links\"\n",
      "]\n"
     ]
    }
   ],
   "source": [
    "# Here is each section of a result\n",
    "\n",
    "pretty_print(results[0].keys())"
   ]
  },
  {
   "cell_type": "code",
   "execution_count": 4,
   "metadata": {
    "collapsed": false
   },
   "outputs": [
    {
     "name": "stdout",
     "output_type": "stream",
     "text": [
      "\"Fighting Game Study\"\n",
      "\"Template Language &amp; Model Procedures for Seeking Permission to Share Data\"\n",
      "\"ANALISIS KEBIJAKAN PELESTARIAN DAMAR DI KABUPATEN PESISIR BARAT (STUDI TERHADAP AGENDA SETTING DAMAR SEBAGAI USAHA PERLINDUNGAN DAN PENINGKATAN KESEJAHTERAAN PETANI DAMAR)\"\n",
      "\"Codebooks\"\n",
      "\"Public Data\"\n",
      "\"Materials\"\n",
      "\"Open Source Implicit Association Test\"\n",
      "\"PENANGANAN SENGKETA TANAH ANTARA PT HIM (HUMA INDAH MEKAR) DAN MASYARAKAT TULANG BAWANG BARAT\"\n",
      "\"Accepted Abstracts for PresQT Workshop\"\n",
      "\"Resources related to (AxB6)xA Backcross (N2 dataset)\"\n"
     ]
    }
   ],
   "source": [
    "# Attributes has a lot of basic info like title, description, date modified, and tags\n",
    "for result in results:\n",
    "    pretty_print(result['attributes']['title'])"
   ]
  },
  {
   "cell_type": "code",
   "execution_count": 5,
   "metadata": {
    "collapsed": false
   },
   "outputs": [
    {
     "name": "stdout",
     "output_type": "stream",
     "text": [
      "Title: The pattern of land use change and climate change in the area of North Bandung and its Impact on water availability, \n",
      "Tags: [u'Climate', u'Climate Change', u'Landuse', u'Landuse Change', u'Rainfall', u'Rainfall intensity', u'Runoff', u'Water', u'Water availability'] \n",
      "\n",
      "\n",
      "Title: Global Increases in Individualism, \n",
      "Tags: [u'Change over Time', u'Climate', u'Cross-cultural Differences', u'Cross-cultural Psychology', u'Cultural Change', u'Disaster', u'Individualism', u'Infectious Diseases', u'Pathogen Prevalence', u'Social Ecology', u'Socioeconomic Development'] \n",
      "\n",
      "\n",
      "Title: SciToon Videos, \n",
      "Tags: [u'broader impacts', u'Climate', u'color', u'echolocation', u'geology', u'graphene', u'mutations', u'polymers', u'RNA', u'science cartoons', u'science policy', u'scitoons', u'STEM education', u'weather'] \n",
      "\n",
      "\n",
      "Title: Pathogen Prevalence is Associated with Cultural Changes in Gender Equality, \n",
      "Tags: [u'climate', u'cultural evolution', u'cultural psychology', u'culture', u'gender inequality', u'life histories', u'pathogens', u'social change'] \n",
      "\n",
      "\n"
     ]
    }
   ],
   "source": [
    "# We can also filter this list of nodes to return only certain results\n",
    "\n",
    "url = OSF_API_URL + 'nodes/?filter[tags]=climate'\n",
    "\n",
    "results = requests.get(url).json()['data']\n",
    "\n",
    "for result in results:\n",
    "    print('Title: {}, \\nTags: {} \\n\\n'.format(result['attributes']['title'], result['attributes']['tags']))"
   ]
  },
  {
   "cell_type": "markdown",
   "metadata": {},
   "source": [
    "### Pagination and Requesting More Results\n",
    "\n",
    "The basic query will return the most recent 10 results. To get more results, you can either use the links provided in the API response to paginate through the returned pages, or alter the URL query parameters to request more results. The maximum number of results you may request at a time is 100.\n",
    "\n",
    "The result's \"Links\" section will give you links for the first, last, next, and previous pages. It will also contain information about the total number of results, and how many results were returned with this query."
   ]
  },
  {
   "cell_type": "code",
   "execution_count": 6,
   "metadata": {
    "collapsed": false
   },
   "outputs": [
    {
     "name": "stdout",
     "output_type": "stream",
     "text": [
      "{\n",
      "    \"next\": \"https://api.osf.io/v2/nodes/?filter%5Btitle%5D=fish&page=2\", \n",
      "    \"meta\": {\n",
      "        \"per_page\": 10, \n",
      "        \"total\": 40\n",
      "    }, \n",
      "    \"prev\": null, \n",
      "    \"last\": \"https://api.osf.io/v2/nodes/?filter%5Btitle%5D=fish&page=4\", \n",
      "    \"first\": null\n",
      "}\n",
      "---------------------------------------\n",
      "{\n",
      "    \"next\": \"https://api.osf.io/v2/nodes/?filter%5Btitle%5D=fish&page=3\", \n",
      "    \"meta\": {\n",
      "        \"per_page\": 10, \n",
      "        \"total\": 40\n",
      "    }, \n",
      "    \"prev\": \"https://api.osf.io/v2/nodes/?filter%5Btitle%5D=fish\", \n",
      "    \"last\": \"https://api.osf.io/v2/nodes/?filter%5Btitle%5D=fish&page=4\", \n",
      "    \"first\": \"https://api.osf.io/v2/nodes/?filter%5Btitle%5D=fish\"\n",
      "}\n"
     ]
    }
   ],
   "source": [
    "# Use the links at the bottom of the page to paginate through the returned results\n",
    "\n",
    "url = OSF_API_URL + 'nodes/?filter[title]=fish'\n",
    "\n",
    "# Basic query for first page\n",
    "results = requests.get(url).json()\n",
    "pretty_print(results['links'])\n",
    "\n",
    "print('---------------------------------------')\n",
    "\n",
    "# Get the next page results from the JSON\n",
    "next_page = results['links']['next']\n",
    "second_page_results = requests.get(next_page).json()\n",
    "\n",
    "pretty_print(second_page_results['links'])"
   ]
  },
  {
   "cell_type": "code",
   "execution_count": 7,
   "metadata": {
    "collapsed": false
   },
   "outputs": [
    {
     "name": "stdout",
     "output_type": "stream",
     "text": [
      "{\n",
      "    \"next\": \"https://api.osf.io/v2/nodes/?filter%5Btitle%5D=science&page=2&page%5Bsize%5D=30\", \n",
      "    \"meta\": {\n",
      "        \"per_page\": 30, \n",
      "        \"total\": 723\n",
      "    }, \n",
      "    \"prev\": null, \n",
      "    \"last\": \"https://api.osf.io/v2/nodes/?filter%5Btitle%5D=science&page=25&page%5Bsize%5D=30\", \n",
      "    \"first\": null\n",
      "}\n"
     ]
    }
   ],
   "source": [
    "# Use the page size query parameter to ask for more total results\n",
    "\n",
    "url = OSF_API_URL + 'nodes/?filter[title]=science&page[size]=30'\n",
    "results = requests.get(url).json()\n",
    "\n",
    "pretty_print(results['links'])"
   ]
  },
  {
   "cell_type": "markdown",
   "metadata": {},
   "source": [
    "### Relationships\n",
    "\n",
    "Some of the information on each project is stored in the relationships section of the result.\n",
    "\n",
    "A relationship is a link to another API endpoint with much more information about that particular subject. For example, the contributors endpoint links to more information about each user who is a contributor on that project."
   ]
  },
  {
   "cell_type": "code",
   "execution_count": 8,
   "metadata": {
    "collapsed": false
   },
   "outputs": [
    {
     "name": "stdout",
     "output_type": "stream",
     "text": [
      "{\n",
      "    \"links\": {\n",
      "        \"related\": {\n",
      "            \"href\": \"https://api.osf.io/v2/nodes/hnp6x/contributors/\", \n",
      "            \"meta\": {}\n",
      "        }\n",
      "    }\n",
      "}\n",
      "---------------------->\n",
      "{\n",
      "    \"relationships\": {\n",
      "        \"quickfiles\": {\n",
      "            \"links\": {\n",
      "                \"download\": {\n",
      "                    \"href\": \"https://files.osf.io/v1/resources/5yjfut672z/providers/osfstorage/?zip=\", \n",
      "                    \"meta\": {}\n",
      "                }, \n",
      "                \"upload\": {\n",
      "                    \"href\": \"https://files.osf.io/v1/resources/5yjfut672z/providers/osfstorage/\", \n",
      "                    \"meta\": {}\n",
      "                }, \n",
      "                \"related\": {\n",
      "                    \"href\": \"https://api.osf.io/v2/users/qthsf/quickfiles/\", \n",
      "                    \"meta\": {}\n",
      "                }\n",
      "            }\n",
      "        }, \n",
      "        \"nodes\": {\n",
      "            \"links\": {\n",
      "                \"related\": {\n",
      "                    \"href\": \"https://api.osf.io/v2/users/qthsf/nodes/\", \n",
      "                    \"meta\": {}\n",
      "                }\n",
      "            }\n",
      "        }, \n",
      "        \"institutions\": {\n",
      "            \"links\": {\n",
      "                \"self\": {\n",
      "                    \"href\": \"https://api.osf.io/v2/users/qthsf/relationships/institutions/\", \n",
      "                    \"meta\": {}\n",
      "                }, \n",
      "                \"related\": {\n",
      "                    \"href\": \"https://api.osf.io/v2/users/qthsf/institutions/\", \n",
      "                    \"meta\": {}\n",
      "                }\n",
      "            }\n",
      "        }\n",
      "    }, \n",
      "    \"attributes\": {\n",
      "        \"family_name\": \"Mellor\", \n",
      "        \"suffix\": \"\", \n",
      "        \"locale\": \"en_US\", \n",
      "        \"date_registered\": \"2014-10-10T14:04:19.070000\", \n",
      "        \"middle_names\": \"Thomas\", \n",
      "        \"given_name\": \"David\", \n",
      "        \"full_name\": \"David Mellor\", \n",
      "        \"social\": {\n",
      "            \"github\": [\n",
      "                \"evomellor\"\n",
      "            ], \n",
      "            \"scholar\": [\n",
      "                \"Vz2nCjYAAAAJ\"\n",
      "            ], \n",
      "            \"profileWebsites\": [\n",
      "                \"http://www.davidtmellor.org/\", \n",
      "                \"https://osf.io/vgh4p/\"\n",
      "            ], \n",
      "            \"academiaInstitution\": [], \n",
      "            \"baiduScholar\": [], \n",
      "            \"twitter\": [\n",
      "                \"@EvoMellor\"\n",
      "            ], \n",
      "            \"linkedIn\": [\n",
      "                \"in/davidtmellor\"\n",
      "            ], \n",
      "            \"academiaProfileID\": [], \n",
      "            \"ssrn\": [], \n",
      "            \"impactStory\": [], \n",
      "            \"orcid\": [\n",
      "                \"0000-0002-3125-5888\"\n",
      "            ], \n",
      "            \"researchGate\": [\n",
      "                \"David_Mellor3\"\n",
      "            ], \n",
      "            \"researcherId\": []\n",
      "        }, \n",
      "        \"active\": true, \n",
      "        \"timezone\": \"America/New_York\"\n",
      "    }, \n",
      "    \"type\": \"users\", \n",
      "    \"id\": \"qthsf\", \n",
      "    \"links\": {\n",
      "        \"self\": \"https://api.osf.io/v2/users/qthsf/\", \n",
      "        \"html\": \"https://osf.io/qthsf/\", \n",
      "        \"profile_image\": \"https://secure.gravatar.com/avatar/a6ab04ed96d8f2ee60af8e684b7e7bdc?d=identicon\"\n",
      "    }\n",
      "}\n"
     ]
    }
   ],
   "source": [
    "first_result = results['data'][0]\n",
    "\n",
    "pretty_print(first_result['relationships']['contributors'])\n",
    "\n",
    "print('---------------------->')\n",
    "contributors_data = requests.get(first_result['relationships']['contributors']['links']['related']['href'])\n",
    "\n",
    "\n",
    "pretty_print(contributors_data.json()['data'][0]['embeds']['users']['data'])"
   ]
  },
  {
   "cell_type": "markdown",
   "metadata": {},
   "source": [
    "## Create a Project, Upload a File\n",
    "\n",
    "Before starting this tutorial, make sure to [create an account on the osf](https://osf.io), login to that account, and create an API token by [visitng your settings page](https://osf.io/settings/tokens/).\n",
    "\n",
    "Save your token as an enviornment variable, or replace the enviornment variable below with the text version of your token for local testing.\n",
    "\n",
    "Here's an example of how to create a project (called a node) on the OSF, and then follow the API relationships to upload a file.\n",
    "\n",
    "This is a python implementation of a guide found on the OSF [detailing a typical OSF Workflow](https://osf.io/y9jdt/wiki/Typical%20Workflow/)"
   ]
  },
  {
   "cell_type": "code",
   "execution_count": 9,
   "metadata": {
    "collapsed": false
   },
   "outputs": [],
   "source": [
    "import os\n",
    "\n",
    "OSF_TOKEN = os.environ['STAGING_OSF_TOKEN']  # replace this line with your token as a string instead if you like\n",
    "OSF_API_URL = 'https://staging-api.osf.io/v2/'"
   ]
  },
  {
   "cell_type": "code",
   "execution_count": 10,
   "metadata": {
    "collapsed": true
   },
   "outputs": [],
   "source": [
    "# Let's defne a few helper functions to make sending data and credentials easier\n",
    "def post_request(url, data):\n",
    "    headers = {\n",
    "        'Content-Type': 'application/vnd.api+json',\n",
    "        'Authorization': 'Bearer {}'.format(OSF_TOKEN)\n",
    "    }\n",
    "    data = json.dumps(data)\n",
    "    return requests.post(url, headers=headers, data=data)"
   ]
  },
  {
   "cell_type": "code",
   "execution_count": 11,
   "metadata": {
    "collapsed": true
   },
   "outputs": [],
   "source": [
    "def get_request(url):\n",
    "    headers = {'Authorization': 'Bearer {}'.format(OSF_TOKEN)}\n",
    "    return requests.get(url, headers=headers)"
   ]
  },
  {
   "cell_type": "code",
   "execution_count": 12,
   "metadata": {
    "collapsed": true
   },
   "outputs": [],
   "source": [
    "def put_request(url, data):\n",
    "    headers = {\n",
    "        'Content-Type': 'application/vnd.api+json',\n",
    "        'Authorization': 'Bearer {}'.format(OSF_TOKEN)\n",
    "    }\n",
    "    data = json.dumps(data)\n",
    "    return requests.put(url, headers=headers, data=data)"
   ]
  },
  {
   "cell_type": "code",
   "execution_count": 13,
   "metadata": {
    "collapsed": false
   },
   "outputs": [],
   "source": [
    "# Define the data for the node we'd like to create\n",
    "node_data = {\n",
    "    \"data\": {\n",
    "        \"type\":\"nodes\",\n",
    "        \"attributes\": {\n",
    "            \"title\":\"Test Project\",\n",
    "            \"description\": \"This is a node created as an example of how to create a node!\",\n",
    "            \"public\": False,\n",
    "            \"category\":\"project\"\n",
    "        }\n",
    "    }\n",
    "}"
   ]
  },
  {
   "cell_type": "code",
   "execution_count": 14,
   "metadata": {
    "collapsed": false
   },
   "outputs": [
    {
     "name": "stdout",
     "output_type": "stream",
     "text": [
      "{\n",
      "    \"data\": {\n",
      "        \"relationships\": {\n",
      "            \"files\": {\n",
      "                \"links\": {\n",
      "                    \"related\": {\n",
      "                        \"href\": \"https://staging-api.osf.io/v2/nodes/3wd6t/files/\", \n",
      "                        \"meta\": {}\n",
      "                    }\n",
      "                }\n",
      "            }, \n",
      "            \"view_only_links\": {\n",
      "                \"links\": {\n",
      "                    \"related\": {\n",
      "                        \"href\": \"https://staging-api.osf.io/v2/nodes/3wd6t/view_only_links/\", \n",
      "                        \"meta\": {}\n",
      "                    }\n",
      "                }\n",
      "            }, \n",
      "            \"identifiers\": {\n",
      "                \"links\": {\n",
      "                    \"related\": {\n",
      "                        \"href\": \"https://staging-api.osf.io/v2/nodes/3wd6t/identifiers/\", \n",
      "                        \"meta\": {}\n",
      "                    }\n",
      "                }\n",
      "            }, \n",
      "            \"draft_registrations\": {\n",
      "                \"links\": {\n",
      "                    \"related\": {\n",
      "                        \"href\": \"https://staging-api.osf.io/v2/nodes/3wd6t/draft_registrations/\", \n",
      "                        \"meta\": {}\n",
      "                    }\n",
      "                }\n",
      "            }, \n",
      "            \"contributors\": {\n",
      "                \"links\": {\n",
      "                    \"related\": {\n",
      "                        \"href\": \"https://staging-api.osf.io/v2/nodes/3wd6t/contributors/\", \n",
      "                        \"meta\": {}\n",
      "                    }\n",
      "                }\n",
      "            }, \n",
      "            \"affiliated_institutions\": {\n",
      "                \"links\": {\n",
      "                    \"self\": {\n",
      "                        \"href\": \"https://staging-api.osf.io/v2/nodes/3wd6t/relationships/institutions/\", \n",
      "                        \"meta\": {}\n",
      "                    }, \n",
      "                    \"related\": {\n",
      "                        \"href\": \"https://staging-api.osf.io/v2/nodes/3wd6t/institutions/\", \n",
      "                        \"meta\": {}\n",
      "                    }\n",
      "                }\n",
      "            }, \n",
      "            \"citation\": {\n",
      "                \"links\": {\n",
      "                    \"related\": {\n",
      "                        \"href\": \"https://staging-api.osf.io/v2/nodes/3wd6t/citation/\", \n",
      "                        \"meta\": {}\n",
      "                    }\n",
      "                }\n",
      "            }, \n",
      "            \"children\": {\n",
      "                \"links\": {\n",
      "                    \"related\": {\n",
      "                        \"href\": \"https://staging-api.osf.io/v2/nodes/3wd6t/children/\", \n",
      "                        \"meta\": {}\n",
      "                    }\n",
      "                }\n",
      "            }, \n",
      "            \"comments\": {\n",
      "                \"links\": {\n",
      "                    \"related\": {\n",
      "                        \"href\": \"https://staging-api.osf.io/v2/nodes/3wd6t/comments/?filter%5Btarget%5D=3wd6t\", \n",
      "                        \"meta\": {}\n",
      "                    }\n",
      "                }\n",
      "            }, \n",
      "            \"registrations\": {\n",
      "                \"links\": {\n",
      "                    \"related\": {\n",
      "                        \"href\": \"https://staging-api.osf.io/v2/nodes/3wd6t/registrations/\", \n",
      "                        \"meta\": {}\n",
      "                    }\n",
      "                }\n",
      "            }, \n",
      "            \"linked_registrations\": {\n",
      "                \"links\": {\n",
      "                    \"self\": {\n",
      "                        \"href\": \"https://staging-api.osf.io/v2/nodes/3wd6t/relationships/linked_registrations/\", \n",
      "                        \"meta\": {}\n",
      "                    }, \n",
      "                    \"related\": {\n",
      "                        \"href\": \"https://staging-api.osf.io/v2/nodes/3wd6t/linked_registrations/\", \n",
      "                        \"meta\": {}\n",
      "                    }\n",
      "                }\n",
      "            }, \n",
      "            \"linked_nodes\": {\n",
      "                \"links\": {\n",
      "                    \"self\": {\n",
      "                        \"href\": \"https://staging-api.osf.io/v2/nodes/3wd6t/relationships/linked_nodes/\", \n",
      "                        \"meta\": {}\n",
      "                    }, \n",
      "                    \"related\": {\n",
      "                        \"href\": \"https://staging-api.osf.io/v2/nodes/3wd6t/linked_nodes/\", \n",
      "                        \"meta\": {}\n",
      "                    }\n",
      "                }\n",
      "            }, \n",
      "            \"node_links\": {\n",
      "                \"links\": {\n",
      "                    \"related\": {\n",
      "                        \"href\": \"https://staging-api.osf.io/v2/nodes/3wd6t/node_links/\", \n",
      "                        \"meta\": {}\n",
      "                    }\n",
      "                }\n",
      "            }, \n",
      "            \"forks\": {\n",
      "                \"links\": {\n",
      "                    \"related\": {\n",
      "                        \"href\": \"https://staging-api.osf.io/v2/nodes/3wd6t/forks/\", \n",
      "                        \"meta\": {}\n",
      "                    }\n",
      "                }\n",
      "            }, \n",
      "            \"root\": {\n",
      "                \"links\": {\n",
      "                    \"related\": {\n",
      "                        \"href\": \"https://staging-api.osf.io/v2/nodes/3wd6t/\", \n",
      "                        \"meta\": {}\n",
      "                    }\n",
      "                }\n",
      "            }, \n",
      "            \"wikis\": {\n",
      "                \"links\": {\n",
      "                    \"related\": {\n",
      "                        \"href\": \"https://staging-api.osf.io/v2/nodes/3wd6t/wikis/\", \n",
      "                        \"meta\": {}\n",
      "                    }\n",
      "                }\n",
      "            }, \n",
      "            \"preprints\": {\n",
      "                \"links\": {\n",
      "                    \"related\": {\n",
      "                        \"href\": \"https://staging-api.osf.io/v2/nodes/3wd6t/preprints/\", \n",
      "                        \"meta\": {}\n",
      "                    }\n",
      "                }\n",
      "            }, \n",
      "            \"logs\": {\n",
      "                \"links\": {\n",
      "                    \"related\": {\n",
      "                        \"href\": \"https://staging-api.osf.io/v2/nodes/3wd6t/logs/\", \n",
      "                        \"meta\": {}\n",
      "                    }\n",
      "                }\n",
      "            }\n",
      "        }, \n",
      "        \"attributes\": {\n",
      "            \"category\": \"project\", \n",
      "            \"fork\": false, \n",
      "            \"preprint\": false, \n",
      "            \"description\": \"This is a node created as an example of how to create a node!\", \n",
      "            \"current_user_permissions\": [\n",
      "                \"read\", \n",
      "                \"write\", \n",
      "                \"admin\"\n",
      "            ], \n",
      "            \"date_modified\": \"2017-10-10T12:58:24.130239\", \n",
      "            \"title\": \"Test Project\", \n",
      "            \"collection\": false, \n",
      "            \"registration\": false, \n",
      "            \"date_created\": \"2017-10-10T12:58:23.915015\", \n",
      "            \"current_user_can_comment\": true, \n",
      "            \"node_license\": null, \n",
      "            \"public\": false, \n",
      "            \"tags\": []\n",
      "        }, \n",
      "        \"type\": \"nodes\", \n",
      "        \"id\": \"3wd6t\", \n",
      "        \"links\": {\n",
      "            \"self\": \"https://staging-api.osf.io/v2/nodes/3wd6t/\", \n",
      "            \"html\": \"https://staging.osf.io/3wd6t/\"\n",
      "        }\n",
      "    }\n",
      "}\n"
     ]
    }
   ],
   "source": [
    "# Post the data, get a response back with details about our node\n",
    "node_response = post_request(OSF_API_URL + 'nodes/', node_data)\n",
    "pretty_print(node_response.json())\n",
    "\n",
    "\n",
    "node_response = get_request(OSF_API_URL + 'nodes/')"
   ]
  },
  {
   "cell_type": "code",
   "execution_count": 15,
   "metadata": {
    "collapsed": false
   },
   "outputs": [
    {
     "name": "stdout",
     "output_type": "stream",
     "text": [
      "{\n",
      "    \"data\": [\n",
      "        {\n",
      "            \"relationships\": {\n",
      "                \"files\": {\n",
      "                    \"links\": {\n",
      "                        \"related\": {\n",
      "                            \"href\": \"https://staging-api.osf.io/v2/nodes/3wd6t/files/osfstorage/\", \n",
      "                            \"meta\": {}\n",
      "                        }\n",
      "                    }\n",
      "                }\n",
      "            }, \n",
      "            \"attributes\": {\n",
      "                \"node\": \"3wd6t\", \n",
      "                \"path\": \"/\", \n",
      "                \"kind\": \"folder\", \n",
      "                \"name\": \"osfstorage\", \n",
      "                \"provider\": \"osfstorage\"\n",
      "            }, \n",
      "            \"type\": \"files\", \n",
      "            \"id\": \"3wd6t:osfstorage\", \n",
      "            \"links\": {\n",
      "                \"storage_addons\": \"https://staging-api.osf.io/v2/addons/?filter%5Bcategories%5D=storage\", \n",
      "                \"upload\": \"https://staging-files.osf.io/v1/resources/3wd6t/providers/osfstorage/\", \n",
      "                \"new_folder\": \"https://staging-files.osf.io/v1/resources/3wd6t/providers/osfstorage/?kind=folder\"\n",
      "            }\n",
      "        }\n",
      "    ], \n",
      "    \"links\": {\n",
      "        \"next\": null, \n",
      "        \"meta\": {\n",
      "            \"per_page\": 10, \n",
      "            \"total\": 1\n",
      "        }, \n",
      "        \"prev\": null, \n",
      "        \"last\": null, \n",
      "        \"first\": null\n",
      "    }\n",
      "}\n"
     ]
    }
   ],
   "source": [
    "# Find the files relationship, follow the related -> href link\n",
    "files_link = node_response.json()['data'][0]['relationships']['files']['links']['related']['href']\n",
    "files_response = get_request(files_link).json()\n",
    "pretty_print(files_response)"
   ]
  },
  {
   "cell_type": "code",
   "execution_count": 16,
   "metadata": {
    "collapsed": false
   },
   "outputs": [
    {
     "data": {
      "text/plain": [
       "u'https://staging-files.osf.io/v1/resources/3wd6t/providers/osfstorage/'"
      ]
     },
     "execution_count": 16,
     "metadata": {},
     "output_type": "execute_result"
    }
   ],
   "source": [
    "# Find the upload link for OSF Storage in that list - should be the first element in the list for new nodes\n",
    "# A node can have several external storage providers configured\n",
    "upload_link = files_response['data'][0]['links']['upload']\n",
    "upload_link"
   ]
  },
  {
   "cell_type": "code",
   "execution_count": 17,
   "metadata": {
    "collapsed": false
   },
   "outputs": [
    {
     "name": "stdout",
     "output_type": "stream",
     "text": [
      "{\n",
      "    \"data\": {\n",
      "        \"attributes\": {\n",
      "            \"resource\": \"3wd6t\", \n",
      "            \"kind\": \"file\", \n",
      "            \"contentType\": \"application/octet-stream\", \n",
      "            \"name\": \"newest_file.txt\", \n",
      "            \"extra\": {\n",
      "                \"downloads\": 0, \n",
      "                \"hashes\": {\n",
      "                    \"sha256\": \"9a4012e8fcbb3353bda8e2520976d3fc050aa4e43b7c1eb8d2d3acc882efab8b\", \n",
      "                    \"md5\": \"5ae2d0f6cf6e1de68b81df1c25728297\"\n",
      "                }, \n",
      "                \"guid\": null, \n",
      "                \"checkout\": null, \n",
      "                \"version\": 1\n",
      "            }, \n",
      "            \"materialized\": \"/newest_file.txt\", \n",
      "            \"created_utc\": null, \n",
      "            \"modified\": \"2017-10-10T12:58:35.118418+00:00\", \n",
      "            \"etag\": \"0885788b8e63b9a97fd13abf5ecbb4d4a933923389100681a502c5fa708f866a\", \n",
      "            \"provider\": \"osfstorage\", \n",
      "            \"path\": \"/59dcc3fb2dbf72000d470540\", \n",
      "            \"modified_utc\": \"2017-10-10T12:58:35+00:00\", \n",
      "            \"size\": 150\n",
      "        }, \n",
      "        \"type\": \"files\", \n",
      "        \"id\": \"osfstorage/59dcc3fb2dbf72000d470540\", \n",
      "        \"links\": {\n",
      "            \"download\": \"https://staging-files.osf.io/v1/resources/3wd6t/providers/osfstorage/59dcc3fb2dbf72000d470540\", \n",
      "            \"move\": \"https://staging-files.osf.io/v1/resources/3wd6t/providers/osfstorage/59dcc3fb2dbf72000d470540\", \n",
      "            \"upload\": \"https://staging-files.osf.io/v1/resources/3wd6t/providers/osfstorage/59dcc3fb2dbf72000d470540?kind=file\", \n",
      "            \"delete\": \"https://staging-files.osf.io/v1/resources/3wd6t/providers/osfstorage/59dcc3fb2dbf72000d470540\"\n",
      "        }\n",
      "    }\n",
      "}\n"
     ]
    }
   ],
   "source": [
    "# Upload the file along with the kind and file name\n",
    "\n",
    "upload_link_with_filename = upload_link + '?kind=file&name=newest_file.txt'\n",
    "file_data = 'This is the entirety of the contents of the file I am uploading. It could have been more, but for an example, a small file seems like a better idea.'\n",
    "\n",
    "put_response = put_request(upload_link_with_filename, file_data)\n",
    "pretty_print(put_response.json())"
   ]
  },
  {
   "cell_type": "markdown",
   "metadata": {},
   "source": [
    "## You did it!\n",
    "Visit your project on the OSF and see your newly updated file!"
   ]
  },
  {
   "cell_type": "code",
   "execution_count": 18,
   "metadata": {
    "collapsed": false
   },
   "outputs": [
    {
     "data": {
      "text/plain": [
       "u'https://staging.osf.io/3wd6t/'"
      ]
     },
     "execution_count": 18,
     "metadata": {},
     "output_type": "execute_result"
    }
   ],
   "source": [
    "# Check our your project on the OSF by visiting the project's link\n",
    "node_response.json()['data'][0]['links']['html']"
   ]
  },
  {
   "cell_type": "code",
   "execution_count": null,
   "metadata": {
    "collapsed": true
   },
   "outputs": [],
   "source": []
  }
 ],
 "metadata": {
  "kernelspec": {
   "display_name": "Python 2",
   "language": "python",
   "name": "python2"
  },
  "language_info": {
   "codemirror_mode": {
    "name": "ipython",
    "version": 2
   },
   "file_extension": ".py",
   "mimetype": "text/x-python",
   "name": "python",
   "nbconvert_exporter": "python",
   "pygments_lexer": "ipython2",
   "version": "2.7.11"
  }
 },
 "nbformat": 4,
 "nbformat_minor": 0
}
